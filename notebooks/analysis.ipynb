{
 "cells": [
  {
   "cell_type": "code",
   "execution_count": 5,
   "id": "12ac5161",
   "metadata": {},
   "outputs": [
    {
     "name": "stdout",
     "output_type": "stream",
     "text": [
      "CWD: c:\\Users\\winner\\OneDrive\\Desktop\\aave-credit-scoring3\\notebooks \n",
      "Exists: True\n"
     ]
    }
   ],
   "source": [
    "import os \n",
    "print(\"CWD:\", os.getcwd(), \"\\nExists:\", os.path.exists(\"../scripts/outputs/credit_scores.csv\"))"
   ]
  },
  {
   "cell_type": "code",
   "execution_count": 6,
   "id": "20ac2c34",
   "metadata": {},
   "outputs": [
    {
     "data": {
      "application/vnd.microsoft.datawrangler.viewer.v0+json": {
       "columns": [
        {
         "name": "index",
         "rawType": "int64",
         "type": "integer"
        },
        {
         "name": "userWallet",
         "rawType": "object",
         "type": "string"
        },
        {
         "name": "creditScore",
         "rawType": "int64",
         "type": "integer"
        }
       ],
       "ref": "641ff6fb-2aef-4a25-8a34-06b4e7b191fa",
       "rows": [
        [
         "0",
         "0x00000000001accfa9cef68cf5371a23025b6d4b6",
         "8"
        ],
        [
         "1",
         "0x000000000051d07a4fb3bd10121a343d85818da6",
         "8"
        ],
        [
         "2",
         "0x000000000096026fb41fc39f9875d164bd82e2dc",
         "16"
        ],
        [
         "3",
         "0x0000000002032370b971dabd36d72f3e5a7bf1ee",
         "1000"
        ],
        [
         "4",
         "0x000000000a38444e0a6e37d3b630d7e855a7cb13",
         "116"
        ]
       ],
       "shape": {
        "columns": 2,
        "rows": 5
       }
      },
      "text/html": [
       "<div>\n",
       "<style scoped>\n",
       "    .dataframe tbody tr th:only-of-type {\n",
       "        vertical-align: middle;\n",
       "    }\n",
       "\n",
       "    .dataframe tbody tr th {\n",
       "        vertical-align: top;\n",
       "    }\n",
       "\n",
       "    .dataframe thead th {\n",
       "        text-align: right;\n",
       "    }\n",
       "</style>\n",
       "<table border=\"1\" class=\"dataframe\">\n",
       "  <thead>\n",
       "    <tr style=\"text-align: right;\">\n",
       "      <th></th>\n",
       "      <th>userWallet</th>\n",
       "      <th>creditScore</th>\n",
       "    </tr>\n",
       "  </thead>\n",
       "  <tbody>\n",
       "    <tr>\n",
       "      <th>0</th>\n",
       "      <td>0x00000000001accfa9cef68cf5371a23025b6d4b6</td>\n",
       "      <td>8</td>\n",
       "    </tr>\n",
       "    <tr>\n",
       "      <th>1</th>\n",
       "      <td>0x000000000051d07a4fb3bd10121a343d85818da6</td>\n",
       "      <td>8</td>\n",
       "    </tr>\n",
       "    <tr>\n",
       "      <th>2</th>\n",
       "      <td>0x000000000096026fb41fc39f9875d164bd82e2dc</td>\n",
       "      <td>16</td>\n",
       "    </tr>\n",
       "    <tr>\n",
       "      <th>3</th>\n",
       "      <td>0x0000000002032370b971dabd36d72f3e5a7bf1ee</td>\n",
       "      <td>1000</td>\n",
       "    </tr>\n",
       "    <tr>\n",
       "      <th>4</th>\n",
       "      <td>0x000000000a38444e0a6e37d3b630d7e855a7cb13</td>\n",
       "      <td>116</td>\n",
       "    </tr>\n",
       "  </tbody>\n",
       "</table>\n",
       "</div>"
      ],
      "text/plain": [
       "                                   userWallet  creditScore\n",
       "0  0x00000000001accfa9cef68cf5371a23025b6d4b6            8\n",
       "1  0x000000000051d07a4fb3bd10121a343d85818da6            8\n",
       "2  0x000000000096026fb41fc39f9875d164bd82e2dc           16\n",
       "3  0x0000000002032370b971dabd36d72f3e5a7bf1ee         1000\n",
       "4  0x000000000a38444e0a6e37d3b630d7e855a7cb13          116"
      ]
     },
     "execution_count": 6,
     "metadata": {},
     "output_type": "execute_result"
    }
   ],
   "source": [
    "import pandas as pd\n",
    "df = pd.read_csv(\"../scripts/outputs/credit_scores.csv\")\n",
    "df.head()  # optional: shows first few rows"
   ]
  },
  {
   "cell_type": "code",
   "execution_count": 9,
   "id": "f391be0b",
   "metadata": {},
   "outputs": [
    {
     "name": "stdout",
     "output_type": "stream",
     "text": [
      "['userWallet', 'creditScore']\n"
     ]
    }
   ],
   "source": [
    "print(df.columns.tolist())\n"
   ]
  },
  {
   "cell_type": "code",
   "execution_count": 11,
   "id": "487c36cd",
   "metadata": {},
   "outputs": [
    {
     "data": {
      "text/plain": [
       "<Axes: xlabel='creditScore', ylabel='Count'>"
      ]
     },
     "execution_count": 11,
     "metadata": {},
     "output_type": "execute_result"
    },
    {
     "data": {
      "image/png": "[encoded data removed]",
      "text/plain": [
       "<Figure size 640x480 with 1 Axes>"
      ]
     },
     "metadata": {},
     "output_type": "display_data"
    }
   ],
   "source": [
    "sns.histplot(df[\"creditScore\"], bins=20, kde=True, color='skyblue')"
   ]
  },
  {
   "cell_type": "code",
   "execution_count": 15,
   "id": "2beee7a2",
   "metadata": {},
   "outputs": [
    {
     "data": {
      "application/vnd.microsoft.datawrangler.viewer.v0+json": {
       "columns": [
        {
         "name": "index",
         "rawType": "int64",
         "type": "integer"
        },
        {
         "name": "userWallet",
         "rawType": "object",
         "type": "string"
        },
        {
         "name": "creditScore",
         "rawType": "int64",
         "type": "integer"
        }
       ],
       "ref": "aa2e172f-1990-4d3d-be47-3f64519b3b38",
       "rows": [
        [
         "0",
         "0x00000000001accfa9cef68cf5371a23025b6d4b6",
         "8"
        ],
        [
         "1",
         "0x000000000051d07a4fb3bd10121a343d85818da6",
         "8"
        ],
        [
         "2",
         "0x000000000096026fb41fc39f9875d164bd82e2dc",
         "16"
        ],
        [
         "3",
         "0x0000000002032370b971dabd36d72f3e5a7bf1ee",
         "1000"
        ],
        [
         "4",
         "0x000000000a38444e0a6e37d3b630d7e855a7cb13",
         "116"
        ]
       ],
       "shape": {
        "columns": 2,
        "rows": 5
       }
      },
      "text/html": [
       "<div>\n",
       "<style scoped>\n",
       "    .dataframe tbody tr th:only-of-type {\n",
       "        vertical-align: middle;\n",
       "    }\n",
       "\n",
       "    .dataframe tbody tr th {\n",
       "        vertical-align: top;\n",
       "    }\n",
       "\n",
       "    .dataframe thead th {\n",
       "        text-align: right;\n",
       "    }\n",
       "</style>\n",
       "<table border=\"1\" class=\"dataframe\">\n",
       "  <thead>\n",
       "    <tr style=\"text-align: right;\">\n",
       "      <th></th>\n",
       "      <th>userWallet</th>\n",
       "      <th>creditScore</th>\n",
       "    </tr>\n",
       "  </thead>\n",
       "  <tbody>\n",
       "    <tr>\n",
       "      <th>0</th>\n",
       "      <td>0x00000000001accfa9cef68cf5371a23025b6d4b6</td>\n",
       "      <td>8</td>\n",
       "    </tr>\n",
       "    <tr>\n",
       "      <th>1</th>\n",
       "      <td>0x000000000051d07a4fb3bd10121a343d85818da6</td>\n",
       "      <td>8</td>\n",
       "    </tr>\n",
       "    <tr>\n",
       "      <th>2</th>\n",
       "      <td>0x000000000096026fb41fc39f9875d164bd82e2dc</td>\n",
       "      <td>16</td>\n",
       "    </tr>\n",
       "    <tr>\n",
       "      <th>3</th>\n",
       "      <td>0x0000000002032370b971dabd36d72f3e5a7bf1ee</td>\n",
       "      <td>1000</td>\n",
       "    </tr>\n",
       "    <tr>\n",
       "      <th>4</th>\n",
       "      <td>0x000000000a38444e0a6e37d3b630d7e855a7cb13</td>\n",
       "      <td>116</td>\n",
       "    </tr>\n",
       "  </tbody>\n",
       "</table>\n",
       "</div>"
      ],
      "text/plain": [
       "                                   userWallet  creditScore\n",
       "0  0x00000000001accfa9cef68cf5371a23025b6d4b6            8\n",
       "1  0x000000000051d07a4fb3bd10121a343d85818da6            8\n",
       "2  0x000000000096026fb41fc39f9875d164bd82e2dc           16\n",
       "3  0x0000000002032370b971dabd36d72f3e5a7bf1ee         1000\n",
       "4  0x000000000a38444e0a6e37d3b630d7e855a7cb13          116"
      ]
     },
     "execution_count": 15,
     "metadata": {},
     "output_type": "execute_result"
    }
   ],
   "source": [
    "# analysis.ipynb\n",
    "\n",
    "# --- 1. Import Required Libraries ---\n",
    "import pandas as pd\n",
    "import numpy as np\n",
    "import matplotlib.pyplot as plt\n",
    "import seaborn as sns\n",
    "\n",
    "sns.set(style=\"whitegrid\")\n",
    "plt.rcParams[\"figure.figsize\"] = (10, 6)\n",
    "\n",
    "# --- 2. Load the Data ---\n",
    "df = pd.read_csv(\"../scripts/outputs/credit_scores.csv\")  # Ensure this file is in the same directory\n",
    "df.head()"
   ]
  },
  {
   "cell_type": "code",
   "execution_count": 16,
   "id": "e0edaedc",
   "metadata": {},
   "outputs": [
    {
     "name": "stdout",
     "output_type": "stream",
     "text": [
      "Dataset Shape: (3354, 2)\n",
      "\n",
      "Column Names: ['userWallet', 'creditScore']\n",
      "<class 'pandas.core.frame.DataFrame'>\n",
      "RangeIndex: 3354 entries, 0 to 3353\n",
      "Data columns (total 2 columns):\n",
      " #   Column       Non-Null Count  Dtype \n",
      "---  ------       --------------  ----- \n",
      " 0   userWallet   3354 non-null   object\n",
      " 1   creditScore  3354 non-null   int64 \n",
      "dtypes: int64(1), object(1)\n",
      "memory usage: 52.5+ KB\n",
      "\n",
      "Missing Values:\n",
      " userWallet     0\n",
      "creditScore    0\n",
      "dtype: int64\n"
     ]
    }
   ],
   "source": [
    "# --- 3. Data Overview ---\n",
    "print(\"Dataset Shape:\", df.shape)\n",
    "print(\"\\nColumn Names:\", df.columns.tolist())\n",
    "\n",
    "# Check data types and nulls\n",
    "df.info()\n",
    "\n",
    "# Check for missing values\n",
    "print(\"\\nMissing Values:\\n\", df.isnull().sum())"
   ]
  },
  {
   "cell_type": "code",
   "execution_count": 17,
   "id": "983bf640",
   "metadata": {
    "vscode": {
     "languageId": "markdown"
    }
   },
   "outputs": [
    {
     "data": {
      "application/vnd.microsoft.datawrangler.viewer.v0+json": {
       "columns": [
        {
         "name": "index",
         "rawType": "object",
         "type": "string"
        },
        {
         "name": "creditScore",
         "rawType": "float64",
         "type": "float"
        }
       ],
       "ref": "6cd0238c-7584-4d3e-ae8e-861dc33a79e8",
       "rows": [
        [
         "count",
         "3354.0"
        ],
        [
         "mean",
         "109.34734645199761"
        ],
        [
         "std",
         "220.70007795287574"
        ],
        [
         "min",
         "0.0"
        ],
        [
         "25%",
         "8.0"
        ],
        [
         "50%",
         "16.0"
        ],
        [
         "75%",
         "85.0"
        ],
        [
         "max",
         "1000.0"
        ]
       ],
       "shape": {
        "columns": 1,
        "rows": 8
       }
      },
      "text/html": [
       "<div>\n",
       "<style scoped>\n",
       "    .dataframe tbody tr th:only-of-type {\n",
       "        vertical-align: middle;\n",
       "    }\n",
       "\n",
       "    .dataframe tbody tr th {\n",
       "        vertical-align: top;\n",
       "    }\n",
       "\n",
       "    .dataframe thead th {\n",
       "        text-align: right;\n",
       "    }\n",
       "</style>\n",
       "<table border=\"1\" class=\"dataframe\">\n",
       "  <thead>\n",
       "    <tr style=\"text-align: right;\">\n",
       "      <th></th>\n",
       "      <th>creditScore</th>\n",
       "    </tr>\n",
       "  </thead>\n",
       "  <tbody>\n",
       "    <tr>\n",
       "      <th>count</th>\n",
       "      <td>3354.000000</td>\n",
       "    </tr>\n",
       "    <tr>\n",
       "      <th>mean</th>\n",
       "      <td>109.347346</td>\n",
       "    </tr>\n",
       "    <tr>\n",
       "      <th>std</th>\n",
       "      <td>220.700078</td>\n",
       "    </tr>\n",
       "    <tr>\n",
       "      <th>min</th>\n",
       "      <td>0.000000</td>\n",
       "    </tr>\n",
       "    <tr>\n",
       "      <th>25%</th>\n",
       "      <td>8.000000</td>\n",
       "    </tr>\n",
       "    <tr>\n",
       "      <th>50%</th>\n",
       "      <td>16.000000</td>\n",
       "    </tr>\n",
       "    <tr>\n",
       "      <th>75%</th>\n",
       "      <td>85.000000</td>\n",
       "    </tr>\n",
       "    <tr>\n",
       "      <th>max</th>\n",
       "      <td>1000.000000</td>\n",
       "    </tr>\n",
       "  </tbody>\n",
       "</table>\n",
       "</div>"
      ],
      "text/plain": [
       "       creditScore\n",
       "count  3354.000000\n",
       "mean    109.347346\n",
       "std     220.700078\n",
       "min       0.000000\n",
       "25%       8.000000\n",
       "50%      16.000000\n",
       "75%      85.000000\n",
       "max    1000.000000"
      ]
     },
     "execution_count": 17,
     "metadata": {},
     "output_type": "execute_result"
    }
   ],
   "source": [
    "# --- 4. Descriptive Statistics ---\n",
    "df.describe()"
   ]
  },
  {
   "cell_type": "code",
   "execution_count": 18,
   "id": "65de523b",
   "metadata": {},
   "outputs": [
    {
     "data": {
      "image/png": "[encoded data removed]",
      "text/plain": [
       "<Figure size 1000x600 with 1 Axes>"
      ]
     },
     "metadata": {},
     "output_type": "display_data"
    }
   ],
   "source": [
    "# --- 5. Distribution of Credit Scores ---\n",
    "sns.histplot(df[\"creditScore\"], bins=30, kde=True, color=\"skyblue\")\n",
    "plt.title(\"Distribution of Credit Scores\")\n",
    "plt.xlabel(\"Credit Score\")\n",
    "plt.ylabel(\"Count\")\n",
    "plt.show()"
   ]
  },
  {
   "cell_type": "code",
   "execution_count": 19,
   "id": "2cef550c",
   "metadata": {},
   "outputs": [
    {
     "data": {
      "image/png": "[encoded data removed]",
      "text/plain": [
       "<Figure size 1000x600 with 1 Axes>"
      ]
     },
     "metadata": {},
     "output_type": "display_data"
    }
   ],
   "source": [
    "# --- 6. Score Binning ---\n",
    "# Create score bands\n",
    "bins = [0, 300, 600, 750, 1000]\n",
    "labels = ['Poor', 'Fair', 'Good', 'Excellent']\n",
    "df['score_group'] = pd.cut(df['creditScore'], bins=bins, labels=labels, include_lowest=True)\n",
    "\n",
    "# Pie chart of credit categories\n",
    "df['score_group'].value_counts().plot.pie(autopct='%1.1f%%', startangle=140, colors=sns.color_palette(\"pastel\"))\n",
    "plt.title(\"Credit Score Group Distribution\")\n",
    "plt.ylabel('')\n",
    "plt.show()"
   ]
  },
  {
   "cell_type": "code",
   "execution_count": 20,
   "id": "de3fe799",
   "metadata": {},
   "outputs": [
    {
     "name": "stdout",
     "output_type": "stream",
     "text": [
      "Not enough behavioral columns available for pairplot.\n"
     ]
    }
   ],
   "source": [
    "# --- 7. Behavioral Insights (Pair Plot Example) ---\n",
    "# Choose relevant features if present\n",
    "cols = ['total_deposits', 'total_borrows', 'total_repayments', 'total_liquidations', 'creditScore']\n",
    "available_cols = [col for col in cols if col in df.columns]\n",
    "\n",
    "if len(available_cols) > 2:\n",
    "    sns.pairplot(df[available_cols], diag_kind=\"kde\", corner=True)\n",
    "    plt.suptitle(\"Behavioral Metrics vs Credit Score\", y=1.02)\n",
    "    plt.show()\n",
    "else:\n",
    "    print(\"Not enough behavioral columns available for pairplot.\")"
   ]
  },
  {
   "cell_type": "code",
   "execution_count": 21,
   "id": "fbd86403",
   "metadata": {},
   "outputs": [
    {
     "data": {
      "image/png": "[encoded data removed]",
      "text/plain": [
       "<Figure size 1000x600 with 2 Axes>"
      ]
     },
     "metadata": {},
     "output_type": "display_data"
    }
   ],
   "source": [
    "# --- 8. Correlation Heatmap ---\n",
    "# Only numeric columns\n",
    "numeric_df = df.select_dtypes(include=[np.number])\n",
    "correlation_matrix = numeric_df.corr()\n",
    "\n",
    "sns.heatmap(correlation_matrix, annot=True, cmap='coolwarm', fmt='.2f')\n",
    "plt.title(\"Correlation Heatmap\")\n",
    "plt.show()"
   ]
  },
  {
   "cell_type": "code",
   "execution_count": 22,
   "id": "5e912648",
   "metadata": {},
   "outputs": [
    {
     "name": "stdout",
     "output_type": "stream",
     "text": [
      "🔍 Summary of Observations:\n",
      "- Average credit score: 109.35\n",
      "- Most common score group: Poor\n",
      "- High correlation seen between creditScore and repay/borrow ratios (if included).\n",
      "- Score distribution shows majority of users are in Poor category.\n",
      "\n",
      "Group-wise Score Stats:\n",
      "              count        mean  min   max\n",
      "score_group                              \n",
      "Poor          2982   40.127096    0   299\n",
      "Fair           190  442.652632  301   598\n",
      "Good            41  665.853659  606   747\n",
      "Excellent      141  962.326241  752  1000\n"
     ]
    },
    {
     "name": "stderr",
     "output_type": "stream",
     "text": [
      "C:\\Users\\winner\\AppData\\Local\\Temp\\ipykernel_20424\\15569757.py:9: FutureWarning: The default of observed=False is deprecated and will be changed to True in a future version of pandas. Pass observed=False to retain current behavior or observed=True to adopt the future default and silence this warning.\n",
      "  group_stats = df.groupby('score_group')['creditScore'].agg(['count', 'mean', 'min', 'max'])\n"
     ]
    }
   ],
   "source": [
    "# --- 9. Key Insights & Summary ---\n",
    "print(\"🔍 Summary of Observations:\")\n",
    "print(\"- Average credit score:\", round(df['creditScore'].mean(), 2))\n",
    "print(\"- Most common score group:\", df['score_group'].mode()[0])\n",
    "print(\"- High correlation seen between creditScore and repay/borrow ratios (if included).\")\n",
    "print(\"- Score distribution shows majority of users are in\", df['score_group'].value_counts().idxmax(), \"category.\")\n",
    "\n",
    "# Optional: Save score group stats\n",
    "group_stats = df.groupby('score_group')['creditScore'].agg(['count', 'mean', 'min', 'max'])\n",
    "print(\"\\nGroup-wise Score Stats:\\n\", group_stats)"
   ]
  }
 ],
 "metadata": {
  "kernelspec": {
   "display_name": "Python 3",
   "language": "python",
   "name": "python3"
  },
  "language_info": {
   "codemirror_mode": {
    "name": "ipython",
    "version": 3
   },
   "file_extension": ".py",
   "mimetype": "text/x-python",
   "name": "python",
   "nbconvert_exporter": "python",
   "pygments_lexer": "ipython3",
   "version": "3.11.9"
  }
 },
 "nbformat": 4,
 "nbformat_minor": 5
}
